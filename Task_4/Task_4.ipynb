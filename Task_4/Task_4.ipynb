{
  "cells": [
    {
      "cell_type": "markdown",
      "metadata": {
        "id": "FPo1l31O8h0d"
      },
      "source": [
        "# Task 4\n",
        "\n",
        "Загрузите [данные по изменению температуры поверхности земли](https://www.kaggle.com/datasets/berkeleyearth/climate-change-earth-surface-temperature-data). Для этого может понадобится зарегистрироваться на [Kaggle](https://kaggle.com). Затем нужно будет работать с данными, которые содержатся в файле **GlobalLandTemperaturesByMajorCity.csv**\n",
        "\n",
        "**NB** Все подсчеты необходимо делать с помощью `PySpark`, без применения `pandas api`. Можно использоать `SQL`."
      ]
    },
    {
      "cell_type": "code",
      "execution_count": 15,
      "metadata": {
        "id": "p-SqHSJw9J2K"
      },
      "outputs": [],
      "source": [
        "import zipfile\n",
        "import pandas as pd\n",
        "import matplotlib.pyplot as plt\n",
        "\n",
        "import pyspark\n",
        "import pyspark.sql.functions as F\n",
        "\n",
        "from pyspark.sql.window import Window\n",
        "from pyspark.sql import SparkSession"
      ]
    },
    {
      "cell_type": "code",
      "execution_count": 17,
      "metadata": {
        "id": "vuBZqOC_76Cq"
      },
      "outputs": [],
      "source": [
        "spark = SparkSession \\\n",
        "    .builder \\\n",
        "    .master(\"local[*]\") \\\n",
        "    .appName(\"PySpark\") \\\n",
        "    .getOrCreate()\n",
        "\n",
        "#Распаковка данных и создание датафрейма\n",
        "with zipfile.ZipFile(\"weather_data.zip\") as z:\n",
        "    with z.open(\"GlobalLandTemperaturesByMajorCity.csv\") as f:\n",
        "        df = spark.createDataFrame(pd.read_csv(f))"
      ]
    },
    {
      "cell_type": "code",
      "execution_count": 18,
      "metadata": {
        "colab": {
          "base_uri": "https://localhost:8080/"
        },
        "id": "zdjpdThEOOhd",
        "outputId": "0eda6bc7-fe2b-4870-d686-479a92a88e35"
      },
      "outputs": [
        {
          "name": "stdout",
          "output_type": "stream",
          "text": [
            "+----------+------------------+-----------------------------+-------+-------------+--------+---------+\n",
            "|        dt|AverageTemperature|AverageTemperatureUncertainty|   City|      Country|Latitude|Longitude|\n",
            "+----------+------------------+-----------------------------+-------+-------------+--------+---------+\n",
            "|1849-01-01|            26.704|                        1.435|Abidjan|Côte D'Ivoire|   5.63N|    3.23W|\n",
            "|1849-02-01|            27.434|                        1.362|Abidjan|Côte D'Ivoire|   5.63N|    3.23W|\n",
            "|1849-03-01|            28.101|                        1.612|Abidjan|Côte D'Ivoire|   5.63N|    3.23W|\n",
            "|1849-04-01|             26.14|           1.3869999999999998|Abidjan|Côte D'Ivoire|   5.63N|    3.23W|\n",
            "|1849-05-01|            25.427|                          1.2|Abidjan|Côte D'Ivoire|   5.63N|    3.23W|\n",
            "+----------+------------------+-----------------------------+-------+-------------+--------+---------+\n",
            "only showing top 5 rows\n",
            "\n"
          ]
        }
      ],
      "source": [
        "df.show(5)"
      ]
    },
    {
      "cell_type": "markdown",
      "metadata": {
        "id": "OKt8VWlW9DUd"
      },
      "source": [
        "# Задание 4.1 (1 балл)\n",
        "\n",
        "В последующих заданиях будут учитываться данные начиная с 01.01.1950. Для этого создайте новый `DataFrame`, в котором удалены все строки до 01.01.1950. Используйте созданный DataFrame в последующих заданиях."
      ]
    },
    {
      "cell_type": "code",
      "execution_count": 25,
      "metadata": {
        "id": "bbzikLcD80l4"
      },
      "outputs": [],
      "source": [
        "new_df = df.filter((F.year('dt') >= 1950))\n",
        "new_df = new_df.dropna()\n",
        "new_df = new_df.withColumn(colName=\"AverageTemperature\", col=F.col(\"AverageTemperature\").cast(\"double\"))"
      ]
    },
    {
      "cell_type": "code",
      "execution_count": 26,
      "metadata": {
        "colab": {
          "base_uri": "https://localhost:8080/"
        },
        "id": "5rRghYeROVSB",
        "outputId": "17e8ad2a-3a27-4224-f3e0-b21ca5495fcf"
      },
      "outputs": [
        {
          "name": "stdout",
          "output_type": "stream",
          "text": [
            "+----------+------------------+-----------------------------+-------+-------------+--------+---------+\n",
            "|        dt|AverageTemperature|AverageTemperatureUncertainty|   City|      Country|Latitude|Longitude|\n",
            "+----------+------------------+-----------------------------+-------+-------------+--------+---------+\n",
            "|1950-01-01|26.773000000000003|                        0.239|Abidjan|Côte D'Ivoire|   5.63N|    3.23W|\n",
            "|1950-02-01|            27.527|                        0.348|Abidjan|Côte D'Ivoire|   5.63N|    3.23W|\n",
            "|1950-03-01|            28.344|                        0.431|Abidjan|Côte D'Ivoire|   5.63N|    3.23W|\n",
            "|1950-04-01|             27.83|                        0.467|Abidjan|Côte D'Ivoire|   5.63N|    3.23W|\n",
            "|1950-05-01|            26.896|                        0.248|Abidjan|Côte D'Ivoire|   5.63N|    3.23W|\n",
            "+----------+------------------+-----------------------------+-------+-------------+--------+---------+\n",
            "only showing top 5 rows\n",
            "\n"
          ]
        }
      ],
      "source": [
        "new_df.show(5)"
      ]
    },
    {
      "cell_type": "markdown",
      "metadata": {
        "id": "oAio0V8h9Ys6"
      },
      "source": [
        "# Задание 4.2 (2 балла)\n",
        "\n",
        "Найдите город, для которого выборочная дисперсия температур на приведенных данных максимальна."
      ]
    },
    {
      "cell_type": "code",
      "execution_count": 27,
      "metadata": {
        "colab": {
          "base_uri": "https://localhost:8080/"
        },
        "id": "DsxUJO4p9ZQC",
        "outputId": "21141113-dba6-4420-a3b5-c2072cc170ab"
      },
      "outputs": [
        {
          "name": "stdout",
          "output_type": "stream",
          "text": [
            "Harbin\n"
          ]
        }
      ],
      "source": [
        "var_df = new_df.groupBy(\"City\").agg(F.variance(\"AverageTemperature\").alias(\"TemperatureVariance\"))\n",
        "max_var_city = var_df.orderBy(F.desc(\"TemperatureVariance\")).first()\n",
        "print(max_var_city['City'])"
      ]
    },
    {
      "cell_type": "markdown",
      "metadata": {
        "id": "pB-PPOaZAmai"
      },
      "source": [
        "# Задание 4.3 (2 баллов)\n",
        "\n",
        "Посчитайте данные по среднегодовой температуре в Санкт-Петербурге. Определите года, в которых средняя температура была выше, чем в предыдущем  и последующем году."
      ]
    },
    {
      "cell_type": "code",
      "execution_count": 29,
      "metadata": {
        "colab": {
          "base_uri": "https://localhost:8080/"
        },
        "id": "AjDPoBhR-cc1",
        "outputId": "fcbdea0a-74af-458e-c171-d810056e2ffa"
      },
      "outputs": [
        {
          "name": "stdout",
          "output_type": "stream",
          "text": [
            "+----+------------------+-------------------+-------------------+\n",
            "|Year|     AvgTempByYear|PrevYearTemperature|NextYearTemperature|\n",
            "+----+------------------+-------------------+-------------------+\n",
            "|1953| 4.840083333333333|  3.749333333333333|              4.454|\n",
            "|1957| 4.856249999999999| 2.5654999999999997| 3.2618333333333336|\n",
            "|1959| 5.026000000000001| 3.2618333333333336|  4.108249999999999|\n",
            "|1961| 5.842083333333334|  4.108249999999999|  4.038250000000001|\n",
            "|1964| 4.414166666666666| 3.4835833333333333|  3.702166666666667|\n",
            "|1967| 4.618666666666667| 2.8411666666666666| 3.4489999999999994|\n",
            "|1972| 5.294333333333333|  4.157750000000001|  4.421500000000001|\n",
            "|1975| 5.885249999999999|  5.642583333333334| 2.5989166666666668|\n",
            "|1977|3.9462500000000005| 2.5989166666666668| 2.6957500000000003|\n",
            "|1979|4.0605833333333345| 2.6957500000000003| 3.6558333333333333|\n",
            "|1983| 5.237583333333333|  4.482166666666667|  5.008583333333333|\n",
            "|1986| 4.054749999999999| 2.6400833333333336| 2.2548333333333335|\n",
            "|1989| 6.585916666666667|  4.930166666666667|  5.629416666666668|\n",
            "|1992| 5.415833333333334|  5.366583333333335|  4.242249999999999|\n",
            "|1995| 5.422583333333333|  4.384333333333333| 3.9742499999999996|\n",
            "|1997| 4.668416666666667| 3.9742499999999996| 4.2459999999999996|\n",
            "|2000| 6.184666666666665|  5.440166666666667|  4.963500000000001|\n",
            "|2002|           5.07675|  4.963500000000001|  4.847416666666667|\n",
            "|2005| 5.553249999999999|  5.113666666666667|  5.474916666666668|\n",
            "|2008| 6.408416666666667|  5.913249999999999|  5.177416666666668|\n",
            "+----+------------------+-------------------+-------------------+\n",
            "only showing top 20 rows\n",
            "\n"
          ]
        }
      ],
      "source": [
        "spb_df = new_df.filter((F.col(\"City\") == \"Saint Petersburg\") & F.col(\"AverageTemperature\").isNotNull())\n",
        "spb_df = spb_df.withColumn(colName=\"Year\", col=F.col(\"dt\").substr(1, 4).cast(\"int\"))\n",
        "\n",
        "# Опредение средней температуры по годам\n",
        "avg_temp_by_year = spb_df.groupBy(\"Year\").agg(F.avg(\"AverageTemperature\").alias(\"AvgTempByYear\"))\n",
        "year_window = Window.orderBy(\"Year\")\n",
        "\n",
        "# Средние температуры для предыдущего и последующего года\n",
        "avg_temp_by_year = avg_temp_by_year.withColumn(colName=\"PrevYearTemperature\", col=F.lag(\"AvgTempByYear\").over(year_window))\n",
        "avg_temp_by_year = avg_temp_by_year.withColumn(colName=\"NextYearTemperature\", col=F.lead(\"AvgTempByYear\").over(year_window))\n",
        "\n",
        "result3 = avg_temp_by_year.filter(\n",
        "    (F.col(\"AvgTempByYear\") > F.col(\"PrevYearTemperature\")) &\n",
        "    (F.col(\"AvgTempByYear\") > F.col(\"NextYearTemperature\"))\n",
        ")\n",
        "\n",
        "result3.show()"
      ]
    },
    {
      "cell_type": "markdown",
      "metadata": {
        "id": "pa9gooIYAplI"
      },
      "source": [
        "# Задание 4.4 (4 балла)\n",
        "\n",
        "Найдите города, для которых:\n",
        "1. Разница между максимальным и минимальным значением среднегодовой температуры в выборке максимальна.\n",
        "2. Самая большая средняя разница между средней температурой января и средней температурой июля.\n",
        "3. Наибольшее среднее количество месяцев с отрицательной температурой в году."
      ]
    },
    {
      "cell_type": "markdown",
      "metadata": {
        "id": "O0_wYZr_AyZN"
      },
      "source": [
        "1. Город, в котором разница между максимальным и минимальным значением среднегодовой температуры в выборке максимальна"
      ]
    },
    {
      "cell_type": "code",
      "execution_count": 31,
      "metadata": {
        "colab": {
          "base_uri": "https://localhost:8080/",
          "height": 35
        },
        "id": "ZdUi-gj3Ap1N",
        "outputId": "cf4ac308-0443-4348-9bca-86980255a45e"
      },
      "outputs": [
        {
          "data": {
            "application/vnd.google.colaboratory.intrinsic+json": {
              "type": "string"
            },
            "text/plain": [
              "'Mashhad'"
            ]
          },
          "execution_count": 31,
          "metadata": {},
          "output_type": "execute_result"
        }
      ],
      "source": [
        "df41 = new_df.withColumn(\"Year\", F.col(\"dt\").substr(1, 4).cast(\"int\"))\n",
        "\n",
        "avg_temp_by_year = df41.groupBy(\"City\", \"Year\").agg(F.avg(\"AverageTemperature\").alias(\"AvgTempByYear\"))\n",
        "temp_range = avg_temp_by_year.groupBy(\"City\").agg(\n",
        "    pyspark.sql.functions.max(\"AvgTempByYear\").alias(\"MaxAvgTemperature\"),\n",
        "    pyspark.sql.functions.min(\"AvgTempByYear\").alias(\"MinAvgTemperature\")\n",
        ")\n",
        "\n",
        "temp_range = temp_range.withColumn(\"TemperatureRange\", F.col(\"MaxAvgTemperature\") - F.col(\"MinAvgTemperature\"))\n",
        "max_temp_range = temp_range.orderBy(F.desc(\"TemperatureRange\")).first()\n",
        "max_temp_range['City']"
      ]
    },
    {
      "cell_type": "markdown",
      "metadata": {
        "id": "S83a2MLrBI6n"
      },
      "source": [
        "2. Город, в котором самая большая разница между средней температурой января и июля"
      ]
    },
    {
      "cell_type": "code",
      "execution_count": 32,
      "metadata": {
        "colab": {
          "base_uri": "https://localhost:8080/",
          "height": 35
        },
        "id": "5YZCbBIGBJGi",
        "outputId": "29b5d5a0-5715-4861-d796-bd59a9e4425d"
      },
      "outputs": [
        {
          "data": {
            "application/vnd.google.colaboratory.intrinsic+json": {
              "type": "string"
            },
            "text/plain": [
              "'Harbin'"
            ]
          },
          "execution_count": 32,
          "metadata": {},
          "output_type": "execute_result"
        }
      ],
      "source": [
        "df42 = new_df.withColumn(\"Month\", F.month(F.col(\"dt\")))\n",
        "temp1 = df42.filter(F.col(\"Month\") == 1).groupBy(\"City\").agg(F.avg(\"AverageTemperature\").alias(\"JanuaryAvgTemperature\"))\n",
        "temp7 = df42.filter(F.col(\"Month\") == 7).groupBy(\"City\").agg(F.avg(\"AverageTemperature\").alias(\"JulyAvgTemperature\"))\n",
        "temperature_difference = temp1.join(temp7, \"City\").withColumn(\"TemperatureDifference\", pyspark.sql.functions.abs(F.col(\"JulyAvgTemperature\") - F.col(\"JanuaryAvgTemperature\")))\n",
        "max_temperature_difference = temperature_difference.orderBy(F.col(\"TemperatureDifference\").desc()).first()\n",
        "max_temperature_difference['City']"
      ]
    },
    {
      "cell_type": "markdown",
      "metadata": {
        "id": "rE8zP0t8BPIA"
      },
      "source": [
        "3.Город у которого наибольшее среднее количество месяцев с отрицательной температурой в году"
      ]
    },
    {
      "cell_type": "code",
      "execution_count": 35,
      "metadata": {
        "colab": {
          "base_uri": "https://localhost:8080/",
          "height": 35
        },
        "id": "QOJzUGttBPSj",
        "outputId": "1b4da80f-6404-4deb-a131-496a5456619c"
      },
      "outputs": [
        {
          "data": {
            "application/vnd.google.colaboratory.intrinsic+json": {
              "type": "string"
            },
            "text/plain": [
              "'Harbin'"
            ]
          },
          "execution_count": 35,
          "metadata": {},
          "output_type": "execute_result"
        }
      ],
      "source": [
        "df43 = new_df.withColumn(\"Month\", F.month(F.col(\"dt\"))).withColumn(\"Year\", F.year(F.col(\"dt\")))\n",
        "negative_temperatures_monthly = df43.withColumn(\"Year\", F.year(F.col(\"dt\"))).groupBy(\"City\", \"Year\", \"Month\").agg(F.avg(\"AverageTemperature\").alias(\"AverageTemperature\"))\n",
        "negative_temperatures_monthly = negative_temperatures_monthly.withColumn(\"UnderZero\", F.when(F.col(\"AverageTemperature\") < 0, 1).otherwise(0))\n",
        "#Количество месяцев с отрицательной температурой в разбивке по городам и годам\n",
        "negative_temperatures_yearly = negative_temperatures_monthly.groupBy(\"City\", \"Year\").agg(pyspark.sql.functions.sum(\"UnderZero\").alias(\"NegativeMonths\"))\n",
        "average_negative_months = negative_temperatures_yearly.groupBy(\"City\").agg(F.avg(\"NegativeMonths\").alias(\"AverageNegativeMonths\"))\n",
        "max_neg_months_city = average_negative_months.orderBy(F.col(\"AverageNegativeMonths\").desc()).first()\n",
        "max_neg_months_city['City']"
      ]
    }
  ],
  "metadata": {
    "colab": {
      "provenance": []
    },
    "kernelspec": {
      "display_name": "Python 3.12.4 ('.venv': venv)",
      "language": "python",
      "name": "python3"
    },
    "language_info": {
      "name": "python",
      "version": "3.12.4"
    },
    "vscode": {
      "interpreter": {
        "hash": "7402a305ab5626a5e7a347596eeab28ea554b6bcdfa379601d4311860a72d5ef"
      }
    }
  },
  "nbformat": 4,
  "nbformat_minor": 0
}
