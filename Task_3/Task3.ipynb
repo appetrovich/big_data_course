{
  "cells": [
    {
      "cell_type": "markdown",
      "metadata": {
        "id": "EljA7t2ttIgd"
      },
      "source": [
        "#### Под словом будем понимать слово до проведения его нормализации с помощью стемминга/лемматизации"
      ]
    },
    {
      "cell_type": "code",
      "execution_count": 3,
      "metadata": {
        "id": "XxoujeI9gdWS"
      },
      "outputs": [],
      "source": [
        "import re\n",
        "\n",
        "from pyspark.sql import SparkSession\n",
        "from pyspark.sql.functions import col, explode, split, length, avg, lower, regexp_replace"
      ]
    },
    {
      "cell_type": "code",
      "execution_count": 5,
      "metadata": {
        "id": "qQhO29s9gooH"
      },
      "outputs": [],
      "source": [
        "# Создание SparkSession\n",
        "spark = SparkSession.builder.getOrCreate()\n",
        "\n",
        "# Загрузка данных из файла\n",
        "file_path = \"wiki.txt\"\n",
        "df = spark.read.option(\"delimiter\", \"\\t\").csv(file_path, header=False).toDF(\"url\", \"title\", \"text\")\n",
        "\n",
        "# Разбивка текста на слова\n",
        "words_df = df.select(explode(split(col(\"text\"), \"\\\\s+\")) \\\n",
        "                     .alias(\"word\"))"
      ]
    },
    {
      "cell_type": "code",
      "execution_count": 6,
      "metadata": {
        "colab": {
          "base_uri": "https://localhost:8080/"
        },
        "id": "OXRvaJIcb5uT",
        "outputId": "1c30ad59-a658-443b-c534-df656758ef11"
      },
      "outputs": [
        {
          "name": "stdout",
          "output_type": "stream",
          "text": [
            "Самое длинное слово: никотинамидадениндинуклеотида\n"
          ]
        }
      ],
      "source": [
        "# 1. Найти самое длинное слово\n",
        "longest_word = words_df \\\n",
        "    .filter(col(\"word\").rlike(r\"^[a-zA-Zа-яА-Я]+$\")) \\\n",
        "    .withColumn(\"length\", length(col(\"word\"))) \\\n",
        "    .orderBy(col(\"length\").desc()) \\\n",
        "    .select(\"word\") \\\n",
        "    .first()\n",
        "\n",
        "print(f\"Самое длинное слово: {longest_word['word']}\")"
      ]
    },
    {
      "cell_type": "code",
      "execution_count": 7,
      "metadata": {
        "colab": {
          "base_uri": "https://localhost:8080/"
        },
        "id": "f2dM6Zepb_ew",
        "outputId": "fd43c1b0-3588-49cd-c6e0-a1ae6b1ebc53"
      },
      "outputs": [
        {
          "name": "stdout",
          "output_type": "stream",
          "text": [
            "Средняя длина слов: 6.198729955995877\n"
          ]
        }
      ],
      "source": [
        "# 2. Найти среднюю длину слов\n",
        "average_word_length = words_df.withColumn(\"length\", length(col(\"word\"))) \\\n",
        "    .filter(col(\"word\").rlike(r\"^[a-zA-Zа-яА-Я]+$\")) \\\n",
        "    .agg(avg(col(\"length\")).alias(\"average_length\")) \\\n",
        "    .first()\n",
        "\n",
        "print(f\"Средняя длина слов: {average_word_length['average_length']}\")"
      ]
    },
    {
      "cell_type": "code",
      "execution_count": 25,
      "metadata": {
        "colab": {
          "base_uri": "https://localhost:8080/"
        },
        "id": "iXAW_UO_eTxM",
        "outputId": "1570ddac-aede-4d78-c10b-44147a062273"
      },
      "outputs": [
        {
          "name": "stdout",
          "output_type": "stream",
          "text": [
            "Самое частоупотребляемое латинское слово: formula (11559 раз)\n"
          ]
        }
      ],
      "source": [
        "cleaned_words_df = words_df.withColumn(\"word\", regexp_replace(lower(col(\"word\")), r\"[^a-z]\", \"\"))\n",
        "latin_words_df = cleaned_words_df.filter(col(\"word\").rlike(\"^[a-z]+$\"))\n",
        "word_count_df = latin_words_df.groupBy(\"word\").count()\n",
        "most_common_word = word_count_df.orderBy(col(\"count\").desc()).first()\n",
        "\n",
        "print(f\"Самое частоупотребляемое латинское слово: {most_common_word['word']} ({most_common_word['count']} раз)\")"
      ]
    },
    {
      "cell_type": "code",
      "execution_count": 9,
      "metadata": {
        "colab": {
          "base_uri": "https://localhost:8080/"
        },
        "id": "K1fYl9FdnNh8",
        "outputId": "d48dbbb3-1a2c-4d15-e77f-58ab940629c5"
      },
      "outputs": [
        {
          "name": "stdout",
          "output_type": "stream",
          "text": [
            "+----------+--------------------+-----+\n",
            "|lower_word|capitalized_fraction|count|\n",
            "+----------+--------------------+-----+\n",
            "|ab        |0.5625              |16   |\n",
            "|access    |0.9473684210526315  |19   |\n",
            "|acid      |0.6666666666666666  |15   |\n",
            "|acl       |1.0                 |13   |\n",
            "|adsl      |1.0                 |24   |\n",
            "|ag        |1.0                 |12   |\n",
            "|ag,       |1.0                 |16   |\n",
            "|airbus    |1.0                 |13   |\n",
            "|airlines, |1.0                 |13   |\n",
            "|alpha,    |1.0                 |12   |\n",
            "|alt       |1.0                 |55   |\n",
            "|am5x86    |1.0                 |11   |\n",
            "|american  |1.0                 |47   |\n",
            "|amigaos   |1.0                 |16   |\n",
            "|android,  |1.0                 |11   |\n",
            "|anime     |1.0                 |16   |\n",
            "|apache    |0.9714285714285714  |35   |\n",
            "|api       |1.0                 |73   |\n",
            "|api.      |1.0                 |26   |\n",
            "|apple     |1.0                 |123  |\n",
            "+----------+--------------------+-----+\n",
            "only showing top 20 rows\n",
            "\n"
          ]
        }
      ],
      "source": [
        "# 4. Слова, которые более чем в половине случаев начинаются с большой буквы и встречаются больше 10 раз\n",
        "lower_words_df = words_df.withColumn(\"lower_word\", lower(col(\"word\")))\n",
        "\n",
        "total_count_df = lower_words_df.groupBy(\"lower_word\").count().alias(\"total_count\")\n",
        "capitalized_words_df = words_df.filter(col(\"word\").rlike(\"^[A-ZА-Я].*\"))\n",
        "capitalized_lower_words_df = capitalized_words_df.withColumn(\"lower_word\", lower(col(\"word\")))\n",
        "capitalized_count_df = capitalized_lower_words_df.groupBy(\"lower_word\").count().alias(\"capitalized_count\")\n",
        "\n",
        "combined_df = total_count_df.join(capitalized_count_df, on=\"lower_word\") \\\n",
        "    .withColumn(\"capitalized_fraction\", col(\"capitalized_count.count\") / col(\"total_count.count\")) \\\n",
        "    .filter((col(\"capitalized_fraction\") > 0.5) & (col(\"total_count.count\") > 10))\n",
        "\n",
        "result_df = combined_df.select(\"lower_word\", \"capitalized_fraction\", \"total_count.count\")\n",
        "result_df.show(truncate=False)\n"
      ]
    },
    {
      "cell_type": "code",
      "execution_count": null,
      "metadata": {
        "colab": {
          "base_uri": "https://localhost:8080/"
        },
        "id": "VJcruBnFnOro",
        "outputId": "76491e27-bb9b-4f19-bf63-c396a56d5c64"
      },
      "outputs": [
        {
          "name": "stdout",
          "output_type": "stream",
          "text": [
            "+----+-----+\n",
            "|word|count|\n",
            "+----+-----+\n",
            "|тыс.|4211 |\n",
            "|г.  |2806 |\n",
            "|лет.|1562 |\n",
            "|др. |1276 |\n",
            "|год.|1055 |\n",
            "|гг. |961  |\n",
            "|н.  |943  |\n",
            "|им. |906  |\n",
            "|век.|876  |\n",
            "|чел.|759  |\n",
            "|э.  |579  |\n",
            "|т.  |439  |\n",
            "|в.  |358  |\n",
            "|руб.|351  |\n",
            "|км. |350  |\n",
            "|с.  |337  |\n",
            "|ст. |331  |\n",
            "|св. |313  |\n",
            "|нет.|311  |\n",
            "|см. |302  |\n",
            "+----+-----+\n",
            "only showing top 20 rows\n",
            "\n"
          ]
        }
      ],
      "source": [
        "# 5. Определить устойчивые сокращения вида пр., др.\n",
        "abbreviations_df = words_df.filter(col(\"word\").rlike(\"^[а-я]{1,3}\\.$\"))\n",
        "abbreviations_df.groupBy(\"word\") \\\n",
        "    .count() \\\n",
        "    .orderBy(col(\"count\").desc()) \\\n",
        "    .show(truncate=False)"
      ]
    },
    {
      "cell_type": "code",
      "execution_count": null,
      "metadata": {
        "colab": {
          "base_uri": "https://localhost:8080/"
        },
        "id": "Dl9SCCyDnPoT",
        "outputId": "42e17c27-1279-4b81-fc15-abe6f21e8d3b"
      },
      "outputs": [
        {
          "name": "stdout",
          "output_type": "stream",
          "text": [
            "+-------+-----+\n",
            "|word   |count|\n",
            "+-------+-----+\n",
            "|т.е.   |60   |\n",
            "|н.э.   |44   |\n",
            "|т.д.   |38   |\n",
            "|л.с.   |24   |\n",
            "|т.к.   |24   |\n",
            "|кв.м.  |23   |\n",
            "|т.п.   |17   |\n",
            "|т.ч.   |17   |\n",
            "|с.ш.   |17   |\n",
            "|т.н.   |17   |\n",
            "|ю.ш.   |15   |\n",
            "|р.п.   |10   |\n",
            "|кв.км. |7    |\n",
            "|г.г.   |7    |\n",
            "|рт.ст. |6    |\n",
            "|ед.ч.  |6    |\n",
            "|куб.см.|6    |\n",
            "|в.д.   |5    |\n",
            "|и.о.   |5    |\n",
            "|ст.ст. |5    |\n",
            "+-------+-----+\n",
            "only showing top 20 rows\n",
            "\n"
          ]
        }
      ],
      "source": [
        "# 6. Определить устойчивые сокращения вида т.п., н.э.\n",
        "complex_abbreviations_df = words_df.filter(col(\"word\").rlike(\"^[а-я]{1,3}\\.[а-я]{1,3}\\.$\"))\n",
        "complex_abbreviations_df.groupBy(\"word\") \\\n",
        "    .count() \\\n",
        "    .orderBy(col(\"count\").desc()) \\\n",
        "    .show(truncate=False)"
      ]
    },
    {
      "cell_type": "code",
      "execution_count": null,
      "metadata": {
        "id": "OEfQPeY2MyV2"
      },
      "outputs": [],
      "source": [
        "#Загружаем мужские и женские имена на русском языке (взял отсюда: https://github.com/Raven-SL/ru-pnames-list)\n",
        "with open(\"female_names_rus.txt\") as f:\n",
        "  female_names = [name.replace(\"\\n\", \"\") for name in f.readlines()]\n",
        "\n",
        "with open(\"male_names_rus.txt\") as f:\n",
        "  male_names = [name.replace(\"\\n\", \"\") for name in f.readlines()]"
      ]
    },
    {
      "cell_type": "code",
      "execution_count": null,
      "metadata": {
        "colab": {
          "base_uri": "https://localhost:8080/"
        },
        "id": "UhRUkFqqNomN",
        "outputId": "2ae4526a-a179-4fe4-b970-c3ad9c573384"
      },
      "outputs": [
        {
          "name": "stdout",
          "output_type": "stream",
          "text": [
            "+----------+-----+\n",
            "|word      |count|\n",
            "+----------+-----+\n",
            "|          |12595|\n",
            "|Александр |1188 |\n",
            "|Александра|847  |\n",
            "|Владимир  |817  |\n",
            "|Петра     |760  |\n",
            "|Николай   |679  |\n",
            "|Пётр      |661  |\n",
            "|Сергей    |601  |\n",
            "|Михаил    |583  |\n",
            "|Джон      |544  |\n",
            "|Иван      |503  |\n",
            "|Владимира |454  |\n",
            "|Юрий      |407  |\n",
            "|Виктор    |378  |\n",
            "|Борис     |376  |\n",
            "|Алексей   |369  |\n",
            "|Фридрих   |334  |\n",
            "|Андрей    |320  |\n",
            "|Дмитрий   |319  |\n",
            "|Ленина    |306  |\n",
            "+----------+-----+\n",
            "only showing top 20 rows\n",
            "\n"
          ]
        }
      ],
      "source": [
        "# 7. Найти имена, употребляющиеся в статьях\n",
        "names_df = words_df.filter(col(\"word\").isin(female_names) | (col(\"word\").isin(male_names))) \\\n",
        "    .groupBy(\"word\") \\\n",
        "    .count() \\\n",
        "    .orderBy(col(\"count\").desc()) \\\n",
        "    .show(truncate=False)"
      ]
    },
    {
      "cell_type": "code",
      "execution_count": null,
      "metadata": {
        "id": "yaUpPK7Agk8M"
      },
      "outputs": [],
      "source": [
        "# Завершение работы SparkSession\n",
        "spark.stop()"
      ]
    }
  ],
  "metadata": {
    "colab": {
      "provenance": []
    },
    "kernelspec": {
      "display_name": "Python 3.12.4 ('.venv': venv)",
      "language": "python",
      "name": "python3"
    },
    "language_info": {
      "name": "python",
      "version": "3.12.4"
    },
    "vscode": {
      "interpreter": {
        "hash": "7402a305ab5626a5e7a347596eeab28ea554b6bcdfa379601d4311860a72d5ef"
      }
    }
  },
  "nbformat": 4,
  "nbformat_minor": 0
}
