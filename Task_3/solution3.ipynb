{
  "cells": [
    {
      "cell_type": "code",
      "execution_count": 4,
      "metadata": {
        "colab": {
          "base_uri": "https://localhost:8080/"
        },
        "id": "D1df3kehgpIa",
        "outputId": "7d9dcba2-51e3-46a1-a111-049f04fb8768"
      },
      "outputs": [
        {
          "name": "stdout",
          "output_type": "stream",
          "text": [
            "Collecting pyspark\n",
            "  Downloading pyspark-3.5.1.tar.gz (317.0 MB)\n",
            "\u001b[2K     \u001b[90m━━━━━━━━━━━━━━━━━━━━━━━━━━━━━━━━━━━━━━━━\u001b[0m \u001b[32m317.0/317.0 MB\u001b[0m \u001b[31m3.3 MB/s\u001b[0m eta \u001b[36m0:00:00\u001b[0m\n",
            "\u001b[?25h  Preparing metadata (setup.py) ... \u001b[?25l\u001b[?25hdone\n",
            "Requirement already satisfied: py4j==0.10.9.7 in /usr/local/lib/python3.10/dist-packages (from pyspark) (0.10.9.7)\n",
            "Building wheels for collected packages: pyspark\n",
            "  Building wheel for pyspark (setup.py) ... \u001b[?25l\u001b[?25hdone\n",
            "  Created wheel for pyspark: filename=pyspark-3.5.1-py2.py3-none-any.whl size=317488491 sha256=41dea7c6ea5d620ce1c964d05b7b59b00c67cf5d74ae0cff251bb7795d81f603\n",
            "  Stored in directory: /root/.cache/pip/wheels/80/1d/60/2c256ed38dddce2fdd93be545214a63e02fbd8d74fb0b7f3a6\n",
            "Successfully built pyspark\n",
            "Installing collected packages: pyspark\n",
            "Successfully installed pyspark-3.5.1\n"
          ]
        }
      ],
      "source": [
        "pip install pyspark"
      ]
    },
    {
      "cell_type": "markdown",
      "metadata": {
        "id": "EljA7t2ttIgd"
      },
      "source": [
        "# Еще буду исправлять"
      ]
    },
    {
      "cell_type": "code",
      "execution_count": 43,
      "metadata": {
        "id": "XxoujeI9gdWS"
      },
      "outputs": [],
      "source": [
        "from pyspark.sql import SparkSession\n",
        "from pyspark.sql.functions import col, explode, split, length, avg, lower, regexp_replace\n",
        "import re"
      ]
    },
    {
      "cell_type": "code",
      "execution_count": 54,
      "metadata": {
        "id": "qQhO29s9gooH"
      },
      "outputs": [],
      "source": [
        "# Создание SparkSession\n",
        "spark = SparkSession.builder.getOrCreate()\n",
        "\n",
        "# Загрузка данных из файла\n",
        "file_path = \"wiki.txt\"\n",
        "df = spark.read.option(\"delimiter\", \"\\t\").csv(file_path, header=False).toDF(\"url\", \"title\", \"text\")\n",
        "\n",
        "# Разбивка текста на слова\n",
        "words_df = df.select(explode(split(col(\"text\"), \"\\\\s+\")) \\\n",
        "                     .alias(\"word\"))"
      ]
    },
    {
      "cell_type": "code",
      "execution_count": 55,
      "metadata": {
        "colab": {
          "base_uri": "https://localhost:8080/"
        },
        "id": "5z0wSo91nI40",
        "outputId": "f6af20ec-1dc7-4215-aadc-694d5fb2b968"
      },
      "outputs": [
        {
          "name": "stdout",
          "output_type": "stream",
          "text": [
            "Самое длинное слово: никотинамидадениндинуклеотида\n"
          ]
        }
      ],
      "source": [
        "# 1. Найти самое длинное слово\n",
        "longest_word = words_df \\\n",
        "    .filter(col(\"word\").rlike(r\"^[a-zA-Zа-яА-Я]+$\")) \\\n",
        "    .withColumn(\"length\", length(col(\"word\"))) \\\n",
        "    .orderBy(col(\"length\").desc()) \\\n",
        "    .select(\"word\") \\\n",
        "    .first()\n",
        "\n",
        "print(f\"Самое длинное слово: {longest_word['word']}\")"
      ]
    },
    {
      "cell_type": "code",
      "execution_count": 57,
      "metadata": {
        "colab": {
          "base_uri": "https://localhost:8080/"
        },
        "id": "VwK-RDVenKbf",
        "outputId": "7fa915e2-8be2-4130-e18f-30eabf254450"
      },
      "outputs": [
        {
          "name": "stdout",
          "output_type": "stream",
          "text": [
            "Средняя длина слов: 6.198729955995877\n"
          ]
        }
      ],
      "source": [
        "# 2. Найти среднюю длину слов\n",
        "average_word_length = words_df.withColumn(\"length\", length(col(\"word\"))) \\\n",
        "    .filter(col(\"word\").rlike(r\"^[a-zA-Zа-яА-Я]+$\")) \\\n",
        "    .agg(avg(col(\"length\")).alias(\"average_length\")) \\\n",
        "    .first()\n",
        "\n",
        "print(f\"Средняя длина слов: {average_word_length['average_length']}\")"
      ]
    },
    {
      "cell_type": "code",
      "execution_count": 58,
      "metadata": {
        "colab": {
          "base_uri": "https://localhost:8080/"
        },
        "id": "6XOLvRkXnL4-",
        "outputId": "9cb3b7be-3b4a-4e94-a0fc-765b1f4f0bed"
      },
      "outputs": [
        {
          "name": "stdout",
          "output_type": "stream",
          "text": [
            "Самое частоупотребляемое латинское слово: The\n"
          ]
        }
      ],
      "source": [
        "# 3. Найти самое частоупотребляемое слово, состоящее из латинских букв\n",
        "latin_words_df = words_df.filter(col(\"word\").rlike(\"^[a-zA-Z]{3,}\")) \\\n",
        "                         .filter(col(\"word\").rlike(\"[^IXV]\"))\n",
        "\n",
        "most_common_latin_word = latin_words_df.groupBy(\"word\") \\\n",
        "    .count() \\\n",
        "    .orderBy(col(\"count\").desc()) \\\n",
        "    .first()\n",
        "\n",
        "print(f\"Самое частоупотребляемое латинское слово: {most_common_latin_word['word']}\")"
      ]
    },
    {
      "cell_type": "code",
      "execution_count": 68,
      "metadata": {
        "id": "K1fYl9FdnNh8"
      },
      "outputs": [],
      "source": [
        "# 4. Слова, которые более чем в половине случаев начинаются с большой буквы и встречаются больше 10 раз\n"
      ]
    },
    {
      "cell_type": "code",
      "execution_count": 61,
      "metadata": {
        "colab": {
          "base_uri": "https://localhost:8080/"
        },
        "id": "VJcruBnFnOro",
        "outputId": "76491e27-bb9b-4f19-bf63-c396a56d5c64"
      },
      "outputs": [
        {
          "name": "stdout",
          "output_type": "stream",
          "text": [
            "+----+-----+\n",
            "|word|count|\n",
            "+----+-----+\n",
            "|тыс.|4211 |\n",
            "|г.  |2806 |\n",
            "|лет.|1562 |\n",
            "|др. |1276 |\n",
            "|год.|1055 |\n",
            "|гг. |961  |\n",
            "|н.  |943  |\n",
            "|им. |906  |\n",
            "|век.|876  |\n",
            "|чел.|759  |\n",
            "|э.  |579  |\n",
            "|т.  |439  |\n",
            "|в.  |358  |\n",
            "|руб.|351  |\n",
            "|км. |350  |\n",
            "|с.  |337  |\n",
            "|ст. |331  |\n",
            "|св. |313  |\n",
            "|нет.|311  |\n",
            "|см. |302  |\n",
            "+----+-----+\n",
            "only showing top 20 rows\n",
            "\n"
          ]
        }
      ],
      "source": [
        "# 5. Определить устойчивые сокращения вида пр., др.\n",
        "abbreviations_df = words_df.filter(col(\"word\").rlike(\"^[а-я]{1,3}\\.$\"))\n",
        "abbreviations_df.groupBy(\"word\") \\\n",
        "    .count() \\\n",
        "    .orderBy(col(\"count\").desc()) \\\n",
        "    .show(truncate=False)"
      ]
    },
    {
      "cell_type": "code",
      "execution_count": 62,
      "metadata": {
        "colab": {
          "base_uri": "https://localhost:8080/"
        },
        "id": "Dl9SCCyDnPoT",
        "outputId": "42e17c27-1279-4b81-fc15-abe6f21e8d3b"
      },
      "outputs": [
        {
          "name": "stdout",
          "output_type": "stream",
          "text": [
            "+-------+-----+\n",
            "|word   |count|\n",
            "+-------+-----+\n",
            "|т.е.   |60   |\n",
            "|н.э.   |44   |\n",
            "|т.д.   |38   |\n",
            "|л.с.   |24   |\n",
            "|т.к.   |24   |\n",
            "|кв.м.  |23   |\n",
            "|т.п.   |17   |\n",
            "|т.ч.   |17   |\n",
            "|с.ш.   |17   |\n",
            "|т.н.   |17   |\n",
            "|ю.ш.   |15   |\n",
            "|р.п.   |10   |\n",
            "|кв.км. |7    |\n",
            "|г.г.   |7    |\n",
            "|рт.ст. |6    |\n",
            "|ед.ч.  |6    |\n",
            "|куб.см.|6    |\n",
            "|в.д.   |5    |\n",
            "|и.о.   |5    |\n",
            "|ст.ст. |5    |\n",
            "+-------+-----+\n",
            "only showing top 20 rows\n",
            "\n"
          ]
        }
      ],
      "source": [
        "# 6. Определить устойчивые сокращения вида т.п., н.э.\n",
        "complex_abbreviations_df = words_df.filter(col(\"word\").rlike(\"^[а-я]{1,3}\\.[а-я]{1,3}\\.$\"))\n",
        "complex_abbreviations_df.groupBy(\"word\") \\\n",
        "    .count() \\\n",
        "    .orderBy(col(\"count\").desc()) \\\n",
        "    .show(truncate=False)"
      ]
    },
    {
      "cell_type": "code",
      "execution_count": 80,
      "metadata": {
        "id": "OEfQPeY2MyV2"
      },
      "outputs": [],
      "source": [
        "#Загружаем мужские и женские имена на русском языке\n",
        "with open(\"data/female_names_rus.txt\") as f:\n",
        "  female_names = [name.replace(\"\\n\", \"\") for name in f.readlines()]\n",
        "\n",
        "with open(\"data/male_names_rus.txt\") as f:\n",
        "  male_names = [name.replace(\"\\n\", \"\") for name in f.readlines()]"
      ]
    },
    {
      "cell_type": "code",
      "execution_count": 84,
      "metadata": {
        "colab": {
          "base_uri": "https://localhost:8080/"
        },
        "id": "UhRUkFqqNomN",
        "outputId": "2ae4526a-a179-4fe4-b970-c3ad9c573384"
      },
      "outputs": [
        {
          "name": "stdout",
          "output_type": "stream",
          "text": [
            "+----------+-----+\n",
            "|word      |count|\n",
            "+----------+-----+\n",
            "|          |12595|\n",
            "|Александр |1188 |\n",
            "|Александра|847  |\n",
            "|Владимир  |817  |\n",
            "|Петра     |760  |\n",
            "|Николай   |679  |\n",
            "|Пётр      |661  |\n",
            "|Сергей    |601  |\n",
            "|Михаил    |583  |\n",
            "|Джон      |544  |\n",
            "|Иван      |503  |\n",
            "|Владимира |454  |\n",
            "|Юрий      |407  |\n",
            "|Виктор    |378  |\n",
            "|Борис     |376  |\n",
            "|Алексей   |369  |\n",
            "|Фридрих   |334  |\n",
            "|Андрей    |320  |\n",
            "|Дмитрий   |319  |\n",
            "|Ленина    |306  |\n",
            "+----------+-----+\n",
            "only showing top 20 rows\n",
            "\n"
          ]
        }
      ],
      "source": [
        "# 7. Найти имена, употребляющиеся в статьях\n",
        "names_df = words_df.filter(col(\"word\").isin(female_names) | (col(\"word\").isin(male_names))) \\\n",
        "    .groupBy(\"word\") \\\n",
        "    .count() \\\n",
        "    .orderBy(col(\"count\").desc()) \\\n",
        "    .show(truncate=False)"
      ]
    },
    {
      "cell_type": "code",
      "execution_count": null,
      "metadata": {
        "id": "yaUpPK7Agk8M"
      },
      "outputs": [],
      "source": [
        "# Завершение работы SparkSession\n",
        "spark.stop()"
      ]
    }
  ],
  "metadata": {
    "colab": {
      "provenance": []
    },
    "kernelspec": {
      "display_name": "Python 3.12.3 64-bit",
      "language": "python",
      "name": "python3"
    },
    "language_info": {
      "name": "python",
      "version": "3.12.3"
    },
    "vscode": {
      "interpreter": {
        "hash": "7500c3e1c7c786e4ba1e4b4eb7588219b4e35d5153674f92eb3a82672b534f6e"
      }
    }
  },
  "nbformat": 4,
  "nbformat_minor": 0
}
