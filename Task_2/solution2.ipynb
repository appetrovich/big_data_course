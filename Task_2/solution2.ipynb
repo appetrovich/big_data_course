{
  "cells": [
    {
      "cell_type": "code",
      "execution_count": 2,
      "metadata": {
        "colab": {
          "base_uri": "https://localhost:8080/"
        },
        "id": "QHoPRsAc_cr2",
        "outputId": "403422e2-c87d-4262-f4b3-ef228541f8d3"
      },
      "outputs": [
        {
          "name": "stdout",
          "output_type": "stream",
          "text": [
            "Collecting pyspark\n",
            "  Downloading pyspark-3.5.1.tar.gz (317.0 MB)\n",
            "\u001b[2K     \u001b[90m━━━━━━━━━━━━━━━━━━━━━━━━━━━━━━━━━━━━━━━━\u001b[0m \u001b[32m317.0/317.0 MB\u001b[0m \u001b[31m2.2 MB/s\u001b[0m eta \u001b[36m0:00:00\u001b[0m\n",
            "\u001b[?25h  Preparing metadata (setup.py) ... \u001b[?25l\u001b[?25hdone\n",
            "Requirement already satisfied: py4j==0.10.9.7 in /usr/local/lib/python3.10/dist-packages (from pyspark) (0.10.9.7)\n",
            "Building wheels for collected packages: pyspark\n",
            "  Building wheel for pyspark (setup.py) ... \u001b[?25l\u001b[?25hdone\n",
            "  Created wheel for pyspark: filename=pyspark-3.5.1-py2.py3-none-any.whl size=317488491 sha256=df45e9009f2f879a4bf29693c4a6a4b0aa1e37a1eafd9000c434084b9d6cf9d6\n",
            "  Stored in directory: /root/.cache/pip/wheels/80/1d/60/2c256ed38dddce2fdd93be545214a63e02fbd8d74fb0b7f3a6\n",
            "Successfully built pyspark\n",
            "Installing collected packages: pyspark\n",
            "Successfully installed pyspark-3.5.1\n"
          ]
        }
      ],
      "source": [
        "pip install pyspark"
      ]
    },
    {
      "cell_type": "code",
      "execution_count": 3,
      "metadata": {
        "id": "JuDY1kxnbZeL"
      },
      "outputs": [],
      "source": [
        "import os\n",
        "import time\n",
        "import random\n",
        "import multiprocessing\n",
        "\n",
        "from pyspark import SparkContext"
      ]
    },
    {
      "cell_type": "code",
      "execution_count": 4,
      "metadata": {
        "id": "PpPtH4P7bbE-"
      },
      "outputs": [],
      "source": [
        "# Генерация 50000 случайных 32-битных целых чисел и запись их в файл\n",
        "with open('random_integers_2.txt', 'w') as f:\n",
        "    for _ in range(50000):\n",
        "        f.write(f\"{random.randint(0, 2**32 - 1)}\\n\")"
      ]
    },
    {
      "cell_type": "code",
      "execution_count": 5,
      "metadata": {
        "id": "yww5mVPjbs1C"
      },
      "outputs": [],
      "source": [
        "# Функция подсчета количества простых множителей\n",
        "def prime_factors_count(n):\n",
        "    count = 0\n",
        "    # Считаем количество появлений 2 в факторизации числа\n",
        "    while n % 2 == 0:\n",
        "        count += 1\n",
        "        n //= 2\n",
        "    # Считаем количество других простых множителей\n",
        "    for i in range(3, int(n**0.5) + 1, 2):\n",
        "        while n % i == 0:\n",
        "            count += 1\n",
        "            n //= i\n",
        "    # Если n осталось простым числом больше 2\n",
        "    if n > 2:\n",
        "        count += 1\n",
        "    return count"
      ]
    },
    {
      "cell_type": "code",
      "execution_count": 6,
      "metadata": {
        "id": "10fZdGXBcKO-"
      },
      "outputs": [],
      "source": [
        "# Функция подсчета последовательным алгоритмом\n",
        "def sequential_prime_factors_count(file_path):\n",
        "    total_count = 0\n",
        "    with open(file_path, 'r') as f:\n",
        "        for line in f:\n",
        "            number = int(line.strip())\n",
        "            total_count += prime_factors_count(number)\n",
        "    return total_count"
      ]
    },
    {
      "cell_type": "code",
      "execution_count": 7,
      "metadata": {
        "id": "1ENTiR1AcLry"
      },
      "outputs": [],
      "source": [
        "# Функция подсчета с использованием multiprocessing\n",
        "def worker(numbers):\n",
        "    total_count = 0\n",
        "    for number in numbers:\n",
        "        total_count += prime_factors_count(number)\n",
        "    return total_count\n",
        "\n",
        "def multiprocessing_prime_factors_count(file_path):\n",
        "    with open(file_path, 'r') as f:\n",
        "        numbers = [int(line.strip()) for line in f]\n",
        "\n",
        "    cpu_count = os.cpu_count()\n",
        "    chunk_size = len(numbers) // cpu_count\n",
        "    chunks = [numbers[i:i + chunk_size] for i in range(0, len(numbers), chunk_size)]\n",
        "\n",
        "    with multiprocessing.Pool(cpu_count) as pool:\n",
        "        results = pool.map(worker, chunks)\n",
        "\n",
        "    return sum(results)"
      ]
    },
    {
      "cell_type": "code",
      "execution_count": 8,
      "metadata": {
        "id": "CC5skz8icNd6"
      },
      "outputs": [],
      "source": [
        "def spark_prime_factors_count(file_path):\n",
        "    sc = SparkContext.getOrCreate()\n",
        "    numbers = sc.textFile(file_path).map(lambda x: int(x.strip()))\n",
        "    counts = numbers.map(prime_factors_count).reduce(lambda x, y: x + y)\n",
        "    sc.stop()\n",
        "    return counts"
      ]
    },
    {
      "cell_type": "code",
      "execution_count": 9,
      "metadata": {
        "id": "f2t3UvfRc9Mm"
      },
      "outputs": [],
      "source": [
        "file_path = 'random_integers_2.txt'"
      ]
    },
    {
      "cell_type": "code",
      "execution_count": 10,
      "metadata": {
        "colab": {
          "base_uri": "https://localhost:8080/"
        },
        "id": "9Xq4JS5IcPAs",
        "outputId": "7e7e4c7a-2414-41df-e0ac-d99d6a8a8b90"
      },
      "outputs": [
        {
          "name": "stdout",
          "output_type": "stream",
          "text": [
            "Sequential результат: 205984, Продолжительность: 78.1376519203186 секунд\n"
          ]
        }
      ],
      "source": [
        "# Sequential выполнение\n",
        "start_time = time.time()\n",
        "sequential_count = sequential_prime_factors_count(file_path)\n",
        "end_time = time.time()\n",
        "sequential_duration = end_time - start_time\n",
        "print(f\"Sequential результат: {sequential_count}, Продолжительность: {sequential_duration} секунд\")"
      ]
    },
    {
      "cell_type": "code",
      "execution_count": 11,
      "metadata": {
        "colab": {
          "base_uri": "https://localhost:8080/"
        },
        "id": "aqSb4nlQc7ec",
        "outputId": "081fa5c7-70b6-4342-e109-e9aec3036c7d"
      },
      "outputs": [
        {
          "name": "stdout",
          "output_type": "stream",
          "text": [
            "Multiprocessing результат: 205984, Продолжительность: 77.44239616394043 секунд\n"
          ]
        }
      ],
      "source": [
        "# Multiprocessing выполнение\n",
        "start_time = time.time()\n",
        "multiprocessing_count = multiprocessing_prime_factors_count(file_path)\n",
        "end_time = time.time()\n",
        "multiprocessing_duration = end_time - start_time\n",
        "print(f\"Multiprocessing результат: {multiprocessing_count}, Продолжительность: {multiprocessing_duration} секунд\")"
      ]
    },
    {
      "cell_type": "code",
      "execution_count": 12,
      "metadata": {
        "colab": {
          "base_uri": "https://localhost:8080/"
        },
        "id": "DnMCWiZncThh",
        "outputId": "a7cadf83-fe09-491c-8bcb-93bf206619ea"
      },
      "outputs": [
        {
          "name": "stdout",
          "output_type": "stream",
          "text": [
            "pySpart результат: 205984, Продолжительность: 89.44616270065308 секунд\n"
          ]
        }
      ],
      "source": [
        "# PySpark выполнение\n",
        "start_time = time.time()\n",
        "spark_count = spark_prime_factors_count(file_path)\n",
        "end_time = time.time()\n",
        "spark_duration = end_time - start_time\n",
        "print(f\"pySpart результат: {spark_count}, Продолжительность: {spark_duration} секунд\")"
      ]
    }
  ],
  "metadata": {
    "colab": {
      "provenance": []
    },
    "kernelspec": {
      "display_name": "Python 3.12.3 64-bit",
      "language": "python",
      "name": "python3"
    },
    "language_info": {
      "name": "python",
      "version": "3.12.3"
    },
    "vscode": {
      "interpreter": {
        "hash": "7500c3e1c7c786e4ba1e4b4eb7588219b4e35d5153674f92eb3a82672b534f6e"
      }
    }
  },
  "nbformat": 4,
  "nbformat_minor": 0
}
